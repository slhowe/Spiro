{
 "cells": [
  {
   "cell_type": "markdown",
   "metadata": {},
   "source": [
    "### Copy of symbolicPressureEquation.py\n",
    "##### (It's a lot easier to read!!!)"
   ]
  },
  {
   "cell_type": "code",
   "execution_count": 1,
   "metadata": {
    "collapsed": false
   },
   "outputs": [
    {
     "name": "stdout",
     "output_type": "stream",
     "text": [
      "Function is: \n"
     ]
    },
    {
     "data": {
      "image/png": "[encoded data removed]",
      "text/latex": [
       "$$y(t) = A_{1} e^{- P_{1} t} + A_{2} e^{- P_{2} t}$$"
      ],
      "text/plain": [
       "           -P₁⋅t       -P₂⋅t\n",
       "y(t) = A₁⋅ℯ      + A₂⋅ℯ     "
      ]
     },
     "metadata": {},
     "output_type": "display_data"
    },
    {
     "name": "stdout",
     "output_type": "stream",
     "text": [
      "(Theta is heaviside delayed by x)\n",
      "\n",
      "\n",
      "Function in laplace domain is: \n"
     ]
    },
    {
     "data": {
      "image/png": "[encoded data removed]",
      "text/latex": [
       "$$Y(s) = \\frac{A_{1}}{P_{1} + s} + \\frac{A_{2}}{P_{2} + s}$$"
      ],
      "text/plain": [
       "         A₁       A₂  \n",
       "Y(s) = ────── + ──────\n",
       "       P₁ + s   P₂ + s"
      ]
     },
     "metadata": {},
     "output_type": "display_data"
    }
   ],
   "source": [
    "from sympy import *\n",
    "from sympy.abc import s,t\n",
    "from IPython.display import *\n",
    "import numpy\n",
    "import sympy\n",
    "\n",
    "A1= Symbol(\"A1\")\n",
    "A2 = Symbol(\"A2\")\n",
    "P1 = Symbol(\"P1\")\n",
    "P2 = Symbol(\"P2\")\n",
    "Ys = Symbol(\"Y(s)\")\n",
    "Yt = Symbol(\"y(t)\")\n",
    "x = Symbol(\"x\")\n",
    "\n",
    "y = Function(\"y\")(t)\n",
    "u = Function(\"u\")(t)\n",
    "\n",
    "# Pressure equation\n",
    "eq = (1-Heaviside(x))*A1*exp(-P1*t) + Heaviside(x)*A2*exp(-P2*t)\n",
    "eq = A1*exp(-P1*t) + A2*exp(-P2*t)\n",
    "eq = Eq(Yt, eq)\n",
    "\n",
    "# Laplace of pressure equation\n",
    "Y = A1/(s+P1) - A1*exp(-x*s)/((s+P1)) + A2*exp(-x*s)/((s+P2))\n",
    "Y = A1/(s+P1) + A2/(s+P2)\n",
    "de = Eq(Ys, Y)\n",
    "\n",
    "init_printing(use_latex=True)\n",
    "\n",
    "print(\"Function is: \")\n",
    "display(eq)\n",
    "print(\"(Theta is heaviside delayed by x)\")\n",
    "print\n",
    "print\n",
    "print(\"Function in laplace domain is: \")\n",
    "display(de)"
   ]
  },
  {
   "cell_type": "code",
   "execution_count": 2,
   "metadata": {
    "collapsed": false
   },
   "outputs": [
    {
     "name": "stdout",
     "output_type": "stream",
     "text": [
      "Multiplied out: \n"
     ]
    },
    {
     "data": {
      "image/png": "[encoded data removed]",
      "text/latex": [
       "$$Y(s) = \\frac{A_{1} \\left(P_{2} + s\\right) + A_{2} \\left(P_{1} + s\\right)}{\\left(P_{1} + s\\right) \\left(P_{2} + s\\right)}$$"
      ],
      "text/plain": [
       "       A₁⋅(P₂ + s) + A₂⋅(P₁ + s)\n",
       "Y(s) = ─────────────────────────\n",
       "           (P₁ + s)⋅(P₂ + s)    "
      ]
     },
     "metadata": {},
     "output_type": "display_data"
    }
   ],
   "source": [
    "    # Cross multiply the fractions\n",
    "    Y = together(Y)\n",
    "    \n",
    "    print(\"Multiplied out: \")\n",
    "    de = Eq(Ys, Y)\n",
    "    display(de)"
   ]
  },
  {
   "cell_type": "code",
   "execution_count": 3,
   "metadata": {
    "collapsed": false
   },
   "outputs": [
    {
     "name": "stdout",
     "output_type": "stream",
     "text": [
      "The numerator is:\n"
     ]
    },
    {
     "data": {
      "image/png": "[encoded data removed]",
      "text/latex": [
       "$$A_{1} \\left(P_{2} + s\\right) + A_{2} \\left(P_{1} + s\\right)$$"
      ],
      "text/plain": [
       "A₁⋅(P₂ + s) + A₂⋅(P₁ + s)"
      ]
     },
     "metadata": {},
     "output_type": "display_data"
    },
    {
     "name": "stdout",
     "output_type": "stream",
     "text": [
      "The denominator is:\n"
     ]
    },
    {
     "data": {
      "image/png": "[encoded data removed]",
      "text/latex": [
       "$$\\left(P_{1} + s\\right) \\left(P_{2} + s\\right)$$"
      ],
      "text/plain": [
       "(P₁ + s)⋅(P₂ + s)"
      ]
     },
     "metadata": {},
     "output_type": "display_data"
    }
   ],
   "source": [
    "    # Separate the fraction\n",
    "    numerator = fraction(Y)[0]\n",
    "    denominator = fraction(Y)[1]\n",
    " \n",
    "    print(\"The numerator is:\")\n",
    "    display(numerator)\n",
    "\n",
    "    print(\"The denominator is:\")\n",
    "    display(denominator)"
   ]
  },
  {
   "cell_type": "code",
   "execution_count": 4,
   "metadata": {
    "collapsed": false
   },
   "outputs": [
    {
     "name": "stdout",
     "output_type": "stream",
     "text": [
      "Output\n",
      "Converted to time domain: \n"
     ]
    },
    {
     "data": {
      "image/png": "[encoded data removed]",
      "text/latex": [
       "$$P_{1} P_{2} y{\\left (t \\right )} + \\left(P_{1} + P_{2}\\right) \\frac{d}{d t} y{\\left (t \\right )} + \\frac{d^{2}}{d t^{2}}  y{\\left (t \\right )}$$"
      ],
      "text/plain": [
       "                                    2      \n",
       "                       d           d       \n",
       "P₁⋅P₂⋅y(t) + (P₁ + P₂)⋅──(y(t)) + ───(y(t))\n",
       "                       dt           2      \n",
       "                                  dt       "
      ]
     },
     "metadata": {},
     "output_type": "display_data"
    },
    {
     "name": "stdout",
     "output_type": "stream",
     "text": [
      "(Theta is heaviside delayed by x)\n"
     ]
    }
   ],
   "source": [
    "    # Add the fudge factor ;)\n",
    "    denominator = denominator*s\n",
    "    numerator = numerator*s\n",
    "    \n",
    "    # Expand all brackets\n",
    "    denominator = denominator.expand()\n",
    "    numerator = numerator.expand()\n",
    "    \n",
    "    # Collect powers of s\n",
    "    denominator = collect(denominator, s)\n",
    "    numerator = collect(numerator, s)\n",
    "    \n",
    "    y1 = diff(y, t)\n",
    "    y2 = diff(y, t, t)\n",
    "    y3 = diff(y, t, t, t)\n",
    "    u1 = diff(u, t)\n",
    "    u2 = diff(u, t, t)\n",
    "    u3 = diff(u, t, t, t)\n",
    "    \n",
    "    def convert_to_time_domain(func, v, v1, v2, v3):\n",
    "        time_domain = func.subs(exp(-x*s), Heaviside(x))\n",
    "        time_domain = time_domain.subs(s**4, v3)\n",
    "        time_domain = time_domain.subs(s**3, v2)\n",
    "        time_domain = time_domain.subs(s**2, v1)\n",
    "        time_domain = time_domain.subs(s, v)\n",
    "        time_domain = simplify(time_domain)\n",
    "        return time_domain\n",
    "    \n",
    "    \n",
    "    LHS = convert_to_time_domain(denominator, y, y1, y2, y3)\n",
    "    \n",
    "    print(\"Output\")\n",
    "    print(\"Converted to time domain: \")\n",
    "    display(LHS)\n",
    "    print(\"(Theta is heaviside delayed by x)\")"
   ]
  },
  {
   "cell_type": "code",
   "execution_count": 5,
   "metadata": {
    "collapsed": false,
    "scrolled": true
   },
   "outputs": [
    {
     "name": "stdout",
     "output_type": "stream",
     "text": [
      "Input (impulse)\n",
      "Converted to time domain: \n"
     ]
    },
    {
     "data": {
      "image/png": "[encoded data removed]",
      "text/latex": [
       "$$\\left(A_{1} + A_{2}\\right) \\frac{d}{d t} u{\\left (t \\right )} + \\left(A_{1} P_{2} + A_{2} P_{1}\\right) u{\\left (t \\right )}$$"
      ],
      "text/plain": [
       "          d                              \n",
       "(A₁ + A₂)⋅──(u(t)) + (A₁⋅P₂ + A₂⋅P₁)⋅u(t)\n",
       "          dt                             "
      ]
     },
     "metadata": {},
     "output_type": "display_data"
    },
    {
     "name": "stdout",
     "output_type": "stream",
     "text": [
      "(Theta is heaviside delayed by x)\n"
     ]
    }
   ],
   "source": [
    "    RHS = convert_to_time_domain(numerator, u, u1, u2, u3)\n",
    "\n",
    "    print(\"Input (impulse)\")\n",
    "    print(\"Converted to time domain: \")\n",
    "    display(RHS)\n",
    "    print(\"(Theta is heaviside delayed by x)\")"
   ]
  },
  {
   "cell_type": "code",
   "execution_count": 7,
   "metadata": {
    "collapsed": false
   },
   "outputs": [
    {
     "name": "stdout",
     "output_type": "stream",
     "text": [
      "Input to output\n"
     ]
    },
    {
     "data": {
      "image/png": "[encoded data removed]",
      "text/latex": [
       "$$\\left(A_{1} + A_{2}\\right) \\frac{d}{d t} u{\\left (t \\right )} + \\left(A_{1} P_{2} + A_{2} P_{1}\\right) u{\\left (t \\right )} = P_{1} P_{2} y{\\left (t \\right )} + \\left(P_{1} + P_{2}\\right) \\frac{d}{d t} y{\\left (t \\right )} + \\frac{d^{2}}{d t^{2}}  y{\\left (t \\right )}$$"
      ],
      "text/plain": [
       "                                                                              \n",
       "          d                                                        d          \n",
       "(A₁ + A₂)⋅──(u(t)) + (A₁⋅P₂ + A₂⋅P₁)⋅u(t) = P₁⋅P₂⋅y(t) + (P₁ + P₂)⋅──(y(t)) + \n",
       "          dt                                                       dt         \n",
       "                                                                              \n",
       "\n",
       "  2      \n",
       " d       \n",
       "───(y(t))\n",
       "  2      \n",
       "dt       "
      ]
     },
     "metadata": {},
     "output_type": "display_data"
    },
    {
     "name": "stdout",
     "output_type": "stream",
     "text": [
      "(Theta is heaviside delayed by x)\n"
     ]
    }
   ],
   "source": [
    "    print(\"Input to output\")\n",
    "    #display(Eq(RHS*Heaviside(x), LHS*Heaviside(x)))\n",
    "    display(Eq(RHS, LHS))\n",
    "    print(\"(Theta is heaviside delayed by x)\")"
   ]
  },
  {
   "cell_type": "code",
   "execution_count": 8,
   "metadata": {
    "collapsed": false
   },
   "outputs": [
    {
     "name": "stdout",
     "output_type": "stream",
     "text": [
      "Can find 'output(t)', set eqn to zero\n"
     ]
    },
    {
     "data": {
      "image/png": "[encoded data removed]",
      "text/latex": [
       "$$\\left(A_{1} + A_{2}\\right) \\frac{d}{d t} u{\\left (t \\right )} + \\left(A_{1} P_{2} + A_{2} P_{1}\\right) u{\\left (t \\right )} - \\operatorname{output}{\\left (t \\right )} = 0$$"
      ],
      "text/plain": [
       "          d                                              \n",
       "(A₁ + A₂)⋅──(u(t)) + (A₁⋅P₂ + A₂⋅P₁)⋅u(t) - output(t) = 0\n",
       "          dt                                             "
      ]
     },
     "metadata": {},
     "output_type": "display_data"
    },
    {
     "name": "stdout",
     "output_type": "stream",
     "text": [
      "Solve for u(t)\n"
     ]
    },
    {
     "data": {
      "image/png": "[encoded data removed]",
      "text/latex": [
       "$$u{\\left (t \\right )} = \\left(C_{1} + \\frac{1}{A_{1} + A_{2}} \\int \\operatorname{output}{\\left (t \\right )} e^{\\frac{A_{1} P_{2} t}{A_{1} + A_{2}}} e^{\\frac{A_{2} P_{1} t}{A_{1} + A_{2}}}\\, dt\\right) e^{- \\frac{t \\left(A_{1} P_{2} + A_{2} P_{1}\\right)}{A_{1} + A_{2}}}$$"
      ],
      "text/plain": [
       "       ⎛     ⌠                               ⎞                     \n",
       "       ⎜     ⎮            A₁⋅P₂⋅t  A₂⋅P₁⋅t   ⎟                     \n",
       "       ⎜     ⎮            ───────  ───────   ⎟                     \n",
       "       ⎜     ⎮            A₁ + A₂  A₁ + A₂   ⎟  -t⋅(A₁⋅P₂ + A₂⋅P₁) \n",
       "       ⎜     ⎮ output(t)⋅ℯ       ⋅ℯ        dt⎟  ───────────────────\n",
       "       ⎜     ⌡                               ⎟        A₁ + A₂      \n",
       "u(t) = ⎜C₁ + ────────────────────────────────⎟⋅ℯ                   \n",
       "       ⎝                 A₁ + A₂             ⎠                     "
      ]
     },
     "metadata": {},
     "output_type": "display_data"
    }
   ],
   "source": [
    "    q = Function(\"output\")(t)\n",
    "    eq = Eq(RHS*Heaviside(x) - q)\n",
    "    eq = Eq(RHS - q)\n",
    "    \n",
    "    print(\"Can find \\'output(t)\\', set eqn to zero\")\n",
    "    display(eq)\n",
    "    print(\"Solve for u(t)\")\n",
    "    ans = dsolve(eq,u)\n",
    "    display(ans)"
   ]
  },
  {
   "cell_type": "code",
   "execution_count": 9,
   "metadata": {
    "collapsed": false
   },
   "outputs": [
    {
     "name": "stdout",
     "output_type": "stream",
     "text": [
      "simplified\n"
     ]
    },
    {
     "data": {
      "image/png": "[encoded data removed]",
      "text/latex": [
       "$$A \\frac{d}{d t} u{\\left (t \\right )} + B u{\\left (t \\right )} - \\operatorname{output}{\\left (t \\right )} = 0$$"
      ],
      "text/plain": [
       "  d                                \n",
       "A⋅──(u(t)) + B⋅u(t) - output(t) = 0\n",
       "  dt                               "
      ]
     },
     "metadata": {},
     "output_type": "display_data"
    },
    {
     "name": "stdout",
     "output_type": "stream",
     "text": [
      "Solve for u(t)\n"
     ]
    },
    {
     "data": {
      "image/png": "[encoded data removed]",
      "text/latex": [
       "$$u{\\left (t \\right )} = \\left(C_{1} + \\frac{1}{A} \\int \\operatorname{output}{\\left (t \\right )} e^{\\frac{B t}{A}}\\, dt\\right) e^{- \\frac{B t}{A}}$$"
      ],
      "text/plain": [
       "       ⎛     ⌠                  ⎞       \n",
       "       ⎜     ⎮            B⋅t   ⎟       \n",
       "       ⎜     ⎮            ───   ⎟       \n",
       "       ⎜     ⎮             A    ⎟  -B⋅t \n",
       "       ⎜     ⎮ output(t)⋅ℯ    dt⎟  ─────\n",
       "       ⎜     ⌡                  ⎟    A  \n",
       "u(t) = ⎜C₁ + ───────────────────⎟⋅ℯ     \n",
       "       ⎝              A         ⎠       "
      ]
     },
     "metadata": {},
     "output_type": "display_data"
    }
   ],
   "source": [
    "    a = Symbol(\"A\")\n",
    "    b = Symbol(\"B\")\n",
    "    I = a*diff(u,t) + b*u\n",
    "    eq = Eq(I - q)\n",
    "    \n",
    "    print(\"simplified\")\n",
    "    display(eq)\n",
    "    print(\"Solve for u(t)\")\n",
    "    display(dsolve(eq, u))       "
   ]
  },
  {
   "cell_type": "code",
   "execution_count": 10,
   "metadata": {
    "collapsed": false
   },
   "outputs": [
    {
     "name": "stdout",
     "output_type": "stream",
     "text": [
      "Grab the RHS of equation\n"
     ]
    },
    {
     "data": {
      "image/png": "[encoded data removed]",
      "text/latex": [
       "$$\\left(C_{1} + \\frac{1}{A_{1} + A_{2}} \\int output(t) e^{\\frac{A_{1} P_{2} t}{A_{1} + A_{2}}} e^{\\frac{A_{2} P_{1} t}{A_{1} + A_{2}}}\\, dt\\right) e^{- \\frac{t \\left(A_{1} P_{2} + A_{2} P_{1}\\right)}{A_{1} + A_{2}}}$$"
      ],
      "text/plain": [
       "⎛     ⌠                               ⎞                     \n",
       "⎜     ⎮            A₁⋅P₂⋅t  A₂⋅P₁⋅t   ⎟                     \n",
       "⎜     ⎮            ───────  ───────   ⎟                     \n",
       "⎜     ⎮            A₁ + A₂  A₁ + A₂   ⎟  -t⋅(A₁⋅P₂ + A₂⋅P₁) \n",
       "⎜     ⎮ output(t)⋅ℯ       ⋅ℯ        dt⎟  ───────────────────\n",
       "⎜     ⌡                               ⎟        A₁ + A₂      \n",
       "⎜C₁ + ────────────────────────────────⎟⋅ℯ                   \n",
       "⎝                 A₁ + A₂             ⎠                     "
      ]
     },
     "metadata": {},
     "output_type": "display_data"
    }
   ],
   "source": [
    "yt = Symbol(\"output(t)\")\n",
    "ans = ans.subs(q, yt)\n",
    "b = ans.args[1]\n",
    "print(\"Grab the RHS of equation\")\n",
    "display(b)"
   ]
  },
  {
   "cell_type": "code",
   "execution_count": 11,
   "metadata": {
    "collapsed": false
   },
   "outputs": [
    {
     "ename": "IndexError",
     "evalue": "tuple index out of range",
     "output_type": "error",
     "traceback": [
      "\u001b[1;31m---------------------------------------------------------------------------\u001b[0m",
      "\u001b[1;31mIndexError\u001b[0m                                Traceback (most recent call last)",
      "\u001b[1;32m<ipython-input-11-4b1c9b03c2be>\u001b[0m in \u001b[0;36m<module>\u001b[1;34m()\u001b[0m\n\u001b[0;32m      2\u001b[0m \u001b[0mhigh_limit\u001b[0m \u001b[1;33m=\u001b[0m \u001b[0mSymbol\u001b[0m\u001b[1;33m(\u001b[0m\u001b[1;34m\"h\"\u001b[0m\u001b[1;33m)\u001b[0m\u001b[1;33m\u001b[0m\u001b[0m\n\u001b[0;32m      3\u001b[0m \u001b[1;33m\u001b[0m\u001b[0m\n\u001b[1;32m----> 4\u001b[1;33m \u001b[0mlayer4\u001b[0m \u001b[1;33m=\u001b[0m \u001b[0mb\u001b[0m\u001b[1;33m.\u001b[0m\u001b[0margs\u001b[0m\u001b[1;33m[\u001b[0m\u001b[1;36m0\u001b[0m\u001b[1;33m]\u001b[0m\u001b[1;33m.\u001b[0m\u001b[0margs\u001b[0m\u001b[1;33m[\u001b[0m\u001b[1;36m1\u001b[0m\u001b[1;33m]\u001b[0m\u001b[1;33m.\u001b[0m\u001b[0margs\u001b[0m\u001b[1;33m[\u001b[0m\u001b[1;36m2\u001b[0m\u001b[1;33m]\u001b[0m\u001b[1;33m.\u001b[0m\u001b[0margs\u001b[0m\u001b[1;33m[\u001b[0m\u001b[1;36m0\u001b[0m\u001b[1;33m]\u001b[0m\u001b[1;33m\u001b[0m\u001b[0m\n\u001b[0m\u001b[0;32m      5\u001b[0m \u001b[1;32mprint\u001b[0m\u001b[1;33m(\u001b[0m\u001b[1;34m\"Layer 4\"\u001b[0m\u001b[1;33m)\u001b[0m\u001b[1;33m\u001b[0m\u001b[0m\n\u001b[0;32m      6\u001b[0m \u001b[0mdisplay\u001b[0m\u001b[1;33m(\u001b[0m\u001b[0mlayer4\u001b[0m\u001b[1;33m)\u001b[0m\u001b[1;33m\u001b[0m\u001b[0m\n",
      "\u001b[1;31mIndexError\u001b[0m: tuple index out of range"
     ]
    }
   ],
   "source": [
    "low_limit = Symbol(\"l\")\n",
    "high_limit = Symbol(\"h\")\n",
    "\n",
    "layer4 = b.args[0].args[1].args[2].args[0]\n",
    "print(\"Layer 4\")\n",
    "display(layer4)\n",
    "\n",
    "layer3 = Integral(layer4, (t, low_limit, high_limit))* b.args[0].args[1].args[1] * b.args[0].args[1].args[0]\n",
    "print(\"Layer 3\")\n",
    "display(layer3)\n",
    "\n",
    "layer2 = b.args[0].args[0] + layer3\n",
    "print(\"Layer 2\")\n",
    "display(layer2)\n",
    "\n",
    "new = layer2 * b.args[1]\n",
    "print(\"Equation with limits on integral\")\n",
    "display(new)\n",
    "\n",
    "display(b.subs({A1:0.6, A2:0.3, P1:5, P2:2, C1:0.6}))"
   ]
  }
 ],
 "metadata": {
  "kernelspec": {
   "display_name": "Python 2",
   "language": "python",
   "name": "python2"
  },
  "language_info": {
   "codemirror_mode": {
    "name": "ipython",
    "version": 2
   },
   "file_extension": ".py",
   "mimetype": "text/x-python",
   "name": "python",
   "nbconvert_exporter": "python",
   "pygments_lexer": "ipython2",
   "version": "2.7.11"
  }
 },
 "nbformat": 4,
 "nbformat_minor": 0
}
