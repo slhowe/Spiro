{
 "cells": [
  {
   "cell_type": "markdown",
   "metadata": {},
   "source": [
    "# Modelling parallel pump and driving pressure\n",
    " \n",
    " * Driving pressure = V2\n",
    " * Resp impedance = Z\n",
    " * Pump pressure = V1\n",
    " * Pump resistance = R1\n",
    " * Load resistance = RL\n",
    " \n",
    " Thevenin equavalent circuit is used to simplify system. Thevenin voltage = VTH, Thevenin current = ITH, Thevenin resistance = RTH."
   ]
  },
  {
   "cell_type": "code",
   "execution_count": 3,
   "metadata": {
    "collapsed": true
   },
   "outputs": [],
   "source": [
    "from sympy import *\n",
    "from IPython.display import display\n",
    "init_printing(use_latex='mathjax')"
   ]
  },
  {
   "cell_type": "code",
   "execution_count": 45,
   "metadata": {
    "collapsed": false
   },
   "outputs": [],
   "source": [
    "V2 = Symbol('V_2') # Driving voltage\n",
    "Z = Symbol('Z') # Impedance\n",
    "V1 = Symbol('V_1') # Pump voltage\n",
    "R1 = Symbol('R_1') # Pump resistance\n",
    "IP = Symbol('I_P') # Pump current\n",
    "\n",
    "# Load resistance, current, voltage\n",
    "RL = Symbol('R_L')\n",
    "# for pump OFF\n",
    "VL1 = Symbol('V_L1')\n",
    "IL1 = Symbol('I_L1')\n",
    "\n",
    "# for pump ON\n",
    "VL2 = Symbol('V_L2')\n",
    "IL2 = Symbol('I_L2')\n",
    "\n",
    "# Thevenin voltage, resistance\n",
    "VTH = Symbol('V_TH')\n",
    "ITH = Symbol('I_TH')\n",
    "ZTH = Symbol('Z_TH')"
   ]
  },
  {
   "cell_type": "code",
   "execution_count": 46,
   "metadata": {
    "collapsed": false
   },
   "outputs": [
    {
     "name": "stdout",
     "output_type": "stream",
     "text": [
      "VTH = \n"
     ]
    },
    {
     "data": {
      "text/latex": [
       "$$V_{2} - \\frac{I_{P}}{I_{L1}} \\left(V_{2} - V_{L1}\\right)$$"
      ],
      "text/plain": [
       "     I_P⋅(V₂ - V_L1)\n",
       "V₂ - ───────────────\n",
       "           I_L1     "
      ]
     },
     "metadata": {},
     "output_type": "display_data"
    },
    {
     "name": "stdout",
     "output_type": "stream",
     "text": [
      "ZTH = \n"
     ]
    },
    {
     "data": {
      "text/latex": [
       "$$Z$$"
      ],
      "text/plain": [
       "Z"
      ]
     },
     "metadata": {},
     "output_type": "display_data"
    }
   ],
   "source": [
    "# Thevenin current\n",
    "#ITH = (V2 - V1)/(R1 + Z)\n",
    "#V2 = Z*IL1 + VL1\n",
    "\n",
    "# Thevenin voltage\n",
    "#VTH = V1 + ITH*R1\n",
    "VTH = V2 - IP*(V2 - VL1)/IL1\n",
    "print('VTH = ')\n",
    "display(VTH)\n",
    "\n",
    "# Thevenin impedance\n",
    "# From parallel impedance and resistance\n",
    "#ZTH = (R1*Z)/(R1 + Z)\n",
    "ZTH = Z\n",
    "print('ZTH = ')\n",
    "display(ZTH)"
   ]
  },
  {
   "cell_type": "code",
   "execution_count": 60,
   "metadata": {
    "collapsed": false
   },
   "outputs": [
    {
     "data": {
      "text/latex": [
       "$$\\frac{I_{2}^{2} \\left(- I_{P} + V_{d}\\right)}{\\left(V_{d} - V_{m}\\right) \\left(I_{2} R + V_{d} - V_{m}\\right)}$$"
      ],
      "text/plain": [
       "         2                    \n",
       "       I₂ ⋅(-I_P + V_d)       \n",
       "──────────────────────────────\n",
       "(V_d - V_m)⋅(I₂⋅R + V_d - V_m)"
      ]
     },
     "execution_count": 60,
     "metadata": {},
     "output_type": "execute_result"
    }
   ],
   "source": [
    "I2 = Symbol('I_2')\n",
    "Im = Symbol('I_m')\n",
    "Vm = Symbol('V_m')\n",
    "Vd = Symbol('V_d')\n",
    "R = Symbol('R')\n",
    "simplify((Vd-IP)/(((Vd-Vm)/I2)**2 + (R*(Vd-Vm)/I2)))"
   ]
  },
  {
   "cell_type": "code",
   "execution_count": 75,
   "metadata": {
    "collapsed": false
   },
   "outputs": [
    {
     "data": {
      "text/latex": [
       "$$\\left [ \\frac{1}{2 I_{m}} \\left(- I_{m} R + \\sqrt{I_{m} \\left(- 4 I_{P} + I_{m} R^{2} + 4 V_{d}\\right)}\\right), \\quad - \\frac{1}{2 I_{m}} \\left(I_{m} R + \\sqrt{I_{m} \\left(- 4 I_{P} + I_{m} R^{2} + 4 V_{d}\\right)}\\right)\\right ]$$"
      ],
      "text/plain": [
       "⎡            _______________________________   ⎛           ___________________\n",
       "⎢           ╱     ⎛              2        ⎞    ⎜          ╱     ⎛             \n",
       "⎢-I_m⋅R + ╲╱  I_m⋅⎝-4⋅I_P + I_m⋅R  + 4⋅V_d⎠   -⎝I_m⋅R + ╲╱  I_m⋅⎝-4⋅I_P + I_m⋅\n",
       "⎢───────────────────────────────────────────, ────────────────────────────────\n",
       "⎣                   2⋅I_m                                         2⋅I_m       \n",
       "\n",
       "____________⎞ ⎤\n",
       " 2        ⎞ ⎟ ⎥\n",
       "R  + 4⋅V_d⎠ ⎠ ⎥\n",
       "──────────────⎥\n",
       "              ⎦"
      ]
     },
     "execution_count": 75,
     "metadata": {},
     "output_type": "execute_result"
    }
   ],
   "source": [
    "solve(Im-(Vd-IP)/(Z*(Z+R)), Z)"
   ]
  },
  {
   "cell_type": "code",
   "execution_count": 70,
   "metadata": {
    "collapsed": false
   },
   "outputs": [
    {
     "data": {
      "text/latex": [
       "$$\\frac{- I_{P} + V_{d}}{\\frac{R}{I_{2}} \\left(V_{d} - V_{m}\\right) + \\frac{1}{I_{2}^{2}} \\left(V_{d} - V_{m}\\right)^{2}}$$"
      ],
      "text/plain": [
       "         -I_P + V_d         \n",
       "────────────────────────────\n",
       "                           2\n",
       "R⋅(V_d - V_m)   (V_d - V_m) \n",
       "───────────── + ────────────\n",
       "      I₂              2     \n",
       "                    I₂      "
      ]
     },
     "metadata": {},
     "output_type": "display_data"
    }
   ],
   "source": [
    "I3 = (Vd-IP)/(((Vd-Vm)/I2)**2 + (R*(Vd-Vm)/I2))\n",
    "#I3 = ((I2*Z+Vm)-IP)/(Z**2 + (R*Z))\n",
    "display(I3)"
   ]
  },
  {
   "cell_type": "code",
   "execution_count": 73,
   "metadata": {
    "collapsed": false
   },
   "outputs": [
    {
     "data": {
      "text/latex": [
       "$$\\left [ \\frac{1}{2 I_{m}} \\left(I_{2}^{2} - I_{2} I_{m} R - I_{2} \\sqrt{I_{2}^{2} - 2 I_{2} I_{m} R - 4 I_{P} I_{m} + I_{m}^{2} R^{2} + 4 I_{m} V_{m}} + 2 I_{m} V_{m}\\right), \\quad \\frac{1}{2 I_{m}} \\left(I_{2}^{2} - I_{2} I_{m} R + I_{2} \\sqrt{I_{2}^{2} - 2 I_{2} I_{m} R - 4 I_{P} I_{m} + I_{m}^{2} R^{2} + 4 I_{m} V_{m}} + 2 I_{m} V_{m}\\right)\\right ]$$"
      ],
      "text/plain": [
       "⎡                       ____________________________________________________  \n",
       "⎢  2                   ╱   2                               2  2               \n",
       "⎢I₂  - I₂⋅I_m⋅R - I₂⋅╲╱  I₂  - 2⋅I₂⋅I_m⋅R - 4⋅I_P⋅I_m + I_m ⋅R  + 4⋅I_m⋅V_m  +\n",
       "⎢─────────────────────────────────────────────────────────────────────────────\n",
       "⎣                                         2⋅I_m                               \n",
       "\n",
       "                                   ___________________________________________\n",
       "              2                   ╱   2                               2  2    \n",
       " 2⋅I_m⋅V_m  I₂  - I₂⋅I_m⋅R + I₂⋅╲╱  I₂  - 2⋅I₂⋅I_m⋅R - 4⋅I_P⋅I_m + I_m ⋅R  + 4\n",
       "──────────, ──────────────────────────────────────────────────────────────────\n",
       "                                                     2⋅I_m                    \n",
       "\n",
       "_________            ⎤\n",
       "                     ⎥\n",
       "⋅I_m⋅V_m  + 2⋅I_m⋅V_m⎥\n",
       "─────────────────────⎥\n",
       "                     ⎦"
      ]
     },
     "execution_count": 73,
     "metadata": {},
     "output_type": "execute_result"
    }
   ],
   "source": [
    "solve((Im-I3), Vd)"
   ]
  },
  {
   "cell_type": "code",
   "execution_count": 47,
   "metadata": {
    "collapsed": true
   },
   "outputs": [],
   "source": [
    "# Impedance calculated with pump OFF\n",
    "#Z = (V2 - VL1)/IL1"
   ]
  },
  {
   "cell_type": "code",
   "execution_count": 48,
   "metadata": {
    "collapsed": false
   },
   "outputs": [
    {
     "name": "stdout",
     "output_type": "stream",
     "text": [
      "IL2 = \n"
     ]
    },
    {
     "data": {
      "text/latex": [
       "$$\\frac{V_{2} - \\frac{I_{P}}{I_{L1}} \\left(V_{2} - V_{L1}\\right)}{R_{L} + Z}$$"
      ],
      "text/plain": [
       "     I_P⋅(V₂ - V_L1)\n",
       "V₂ - ───────────────\n",
       "           I_L1     \n",
       "────────────────────\n",
       "      R_L + Z       "
      ]
     },
     "metadata": {},
     "output_type": "display_data"
    }
   ],
   "source": [
    "load_current = VTH/(ZTH + RL)\n",
    "#load_current = (R1*V2 + V1*Z)/(R1*RL + R1*Z + RL*Z)\n",
    "print('IL2 = ')\n",
    "display(load_current)"
   ]
  },
  {
   "cell_type": "code",
   "execution_count": 49,
   "metadata": {
    "collapsed": false
   },
   "outputs": [
    {
     "name": "stdout",
     "output_type": "stream",
     "text": [
      "IL2 = \n"
     ]
    },
    {
     "data": {
      "text/latex": [
       "$$\\frac{I_{L1} V_{2} - I_{P} \\left(V_{2} - V_{L1}\\right)}{I_{L1} \\left(R_{L} + Z\\right)}$$"
      ],
      "text/plain": [
       "I_L1⋅V₂ - I_P⋅(V₂ - V_L1)\n",
       "─────────────────────────\n",
       "      I_L1⋅(R_L + Z)     "
      ]
     },
     "metadata": {},
     "output_type": "display_data"
    }
   ],
   "source": [
    "load_current = simplify(load_current)\n",
    "print('IL2 = ')\n",
    "display(load_current)"
   ]
  },
  {
   "cell_type": "code",
   "execution_count": 50,
   "metadata": {
    "collapsed": false,
    "scrolled": false
   },
   "outputs": [
    {
     "name": "stdout",
     "output_type": "stream",
     "text": [
      "Z = \n"
     ]
    },
    {
     "data": {
      "text/latex": [
       "$$\\left [ \\frac{I_{P} \\left(- V_{2} + V_{L1}\\right)}{I_{L2} R_{L} + I_{L2} Z - V_{2}}\\right ]$$"
      ],
      "text/plain": [
       "⎡   I_P⋅(-V₂ + V_L1)   ⎤\n",
       "⎢──────────────────────⎥\n",
       "⎣I_L2⋅R_L + I_L2⋅Z - V₂⎦"
      ]
     },
     "metadata": {},
     "output_type": "display_data"
    }
   ],
   "source": [
    "driving_voltage = solve(IL2-load_current, IL1)\n",
    "print('Z = ')\n",
    "display(driving_voltage)"
   ]
  },
  {
   "cell_type": "code",
   "execution_count": null,
   "metadata": {
    "collapsed": true
   },
   "outputs": [],
   "source": []
  },
  {
   "cell_type": "code",
   "execution_count": 13,
   "metadata": {
    "collapsed": false
   },
   "outputs": [
    {
     "data": {
      "text/latex": [
       "$$- \\frac{P}{V} + R \\left(- \\frac{Q_{l} R_{1}}{V} - \\frac{Q_{p} R_{2}}{V}\\right)$$"
      ],
      "text/plain": [
       "  P     ⎛  Q_l⋅R₁   Q_p⋅R₂⎞\n",
       "- ─ + R⋅⎜- ────── - ──────⎟\n",
       "  V     ⎝    V        V   ⎠"
      ]
     },
     "metadata": {},
     "output_type": "display_data"
    },
    {
     "data": {
      "text/latex": [
       "$$- \\frac{1}{V} \\left(P + R \\left(Q_{l} R_{1} + Q_{p} R_{2}\\right)\\right)$$"
      ],
      "text/plain": [
       "-(P + R⋅(Q_l⋅R₁ + Q_p⋅R₂)) \n",
       "───────────────────────────\n",
       "             V             "
      ]
     },
     "execution_count": 13,
     "metadata": {},
     "output_type": "execute_result"
    }
   ],
   "source": [
    "P = Symbol('P')\n",
    "R = Symbol('R')\n",
    "R1 = Symbol('R_1')\n",
    "R2 = Symbol('R_2')\n",
    "Qp = Symbol('Q_p')\n",
    "Ql = Symbol('Q_l')\n",
    "E = Symbol('E')\n",
    "V = Symbol('V')\n",
    "\n",
    "eqn = (-((R2*Qp)/V+(R1*Ql)/V)*R - P/V)\n",
    "display(eqn)\n",
    "\n",
    "simplify(eqn)"
   ]
  },
  {
   "cell_type": "code",
   "execution_count": 14,
   "metadata": {
    "collapsed": false
   },
   "outputs": [
    {
     "data": {
      "text/latex": [
       "$$\\frac{Q_{l}}{V} \\left(R + R_{1}\\right)$$"
      ],
      "text/plain": [
       "Q_l⋅(R + R₁)\n",
       "────────────\n",
       "     V      "
      ]
     },
     "metadata": {},
     "output_type": "display_data"
    }
   ],
   "source": [
    "eqn2 = Ql*(R1+R)/V\n",
    "display(eqn2)\n",
    "\n"
   ]
  },
  {
   "cell_type": "code",
   "execution_count": 15,
   "metadata": {
    "collapsed": false
   },
   "outputs": [
    {
     "data": {
      "text/latex": [
       "$$\\left [ - \\frac{P + Q_{l} R + Q_{p} R R_{2}}{Q_{l} \\left(R + 1\\right)}\\right ]$$"
      ],
      "text/plain": [
       "⎡-(P + Q_l⋅R + Q_p⋅R⋅R₂) ⎤\n",
       "⎢────────────────────────⎥\n",
       "⎣      Q_l⋅(R + 1)       ⎦"
      ]
     },
     "execution_count": 15,
     "metadata": {},
     "output_type": "execute_result"
    }
   ],
   "source": [
    "solve(eqn2-eqn, R1)"
   ]
  },
  {
   "cell_type": "code",
   "execution_count": null,
   "metadata": {
    "collapsed": true
   },
   "outputs": [],
   "source": []
  }
 ],
 "metadata": {
  "kernelspec": {
   "display_name": "Python 2",
   "language": "python",
   "name": "python2"
  },
  "language_info": {
   "codemirror_mode": {
    "name": "ipython",
    "version": 2
   },
   "file_extension": ".py",
   "mimetype": "text/x-python",
   "name": "python",
   "nbconvert_exporter": "python",
   "pygments_lexer": "ipython2",
   "version": "2.7.12"
  }
 },
 "nbformat": 4,
 "nbformat_minor": 0
}
